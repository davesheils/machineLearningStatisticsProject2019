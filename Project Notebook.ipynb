{
 "cells": [
  {
   "cell_type": "markdown",
   "metadata": {},
   "source": []
  },
  {
   "cell_type": "markdown",
   "metadata": {},
   "source": [
    "# Assessment 2019\n",
    "\n",
    "## Machine Learning and Statistics\n",
    "\n",
    "### Student: G00364696\n",
    "\n",
    "\n"
   ]
  },
  {
   "cell_type": "markdown",
   "metadata": {},
   "source": [
    "### Contents and Assignment Objectives\n",
    "\n",
    "- [Describe](#Describe)\n",
    "Use descriptive statistics and plots to describe the Boston House Prices dataset\n",
    "\n",
    "\n",
    "- [Infer](#Infer)\n",
    "Use inferential statistics to analyse whether there is a significant difference in median house prices between houses that are along the Charles river and those that are not.\n",
    "\n",
    "\n",
    "- [Predict](#Predict)\n",
    "Use keras to create a neural network that can predict the median house price based on the other variables in the dataset\n",
    "\n",
    "(Click on link in section title to go to section)"
   ]
  },
  {
   "cell_type": "code",
   "execution_count": 5,
   "metadata": {},
   "outputs": [],
   "source": [
    "# import Libraries required for this project\n",
    "\n",
    "import numpy as np\n",
    "import pandas as pd\n",
    "import matplotlib.pyplot as plt\n",
    "import seaborn as sns\n",
    "import scipy as sp\n",
    "import keras as kr"
   ]
  },
  {
   "cell_type": "code",
   "execution_count": null,
   "metadata": {},
   "outputs": [],
   "source": []
  },
  {
   "cell_type": "code",
   "execution_count": null,
   "metadata": {},
   "outputs": [],
   "source": []
  },
  {
   "cell_type": "markdown",
   "metadata": {},
   "source": []
  },
  {
   "cell_type": "code",
   "execution_count": 2,
   "metadata": {},
   "outputs": [],
   "source": [
    "# Import Boston House Prices Dataset:  source https://www.kaggle.com/jpractice/boston-house-prices-from-sklearn-datasets\n",
    "\n",
    "from sklearn.datasets import load_boston\n",
    "boston = load_boston()\n",
    "\n",
    "\n",
    "\n"
   ]
  },
  {
   "cell_type": "markdown",
   "metadata": {},
   "source": [
    "https://www.kaggle.com/jpractice/boston-house-prices-from-sklearn-datasetsThe following is based on the instructions on Boston House Prices (from sklearn datasets) (https://www.kaggle.com/jpractice/boston-house-prices-from-sklearn-datasets)\n",
    "\n",
    "\n",
    "*** Will need to inverstigate the original dataset and ascertain if the pandas dataframe is the best format for analysis ***"
   ]
  },
  {
   "cell_type": "code",
   "execution_count": 3,
   "metadata": {},
   "outputs": [
    {
     "data": {
      "text/plain": [
       "dict_keys(['data', 'target', 'feature_names', 'DESCR', 'filename'])"
      ]
     },
     "execution_count": 3,
     "metadata": {},
     "output_type": "execute_result"
    }
   ],
   "source": [
    "boston.keys()"
   ]
  },
  {
   "cell_type": "code",
   "execution_count": null,
   "metadata": {},
   "outputs": [],
   "source": [
    "boston['data'].shape"
   ]
  },
  {
   "cell_type": "code",
   "execution_count": null,
   "metadata": {},
   "outputs": [],
   "source": [
    "print(boston['DESCR'])"
   ]
  },
  {
   "cell_type": "code",
   "execution_count": null,
   "metadata": {},
   "outputs": [],
   "source": [
    "# Create Pandas dataframe\n",
    "\n",
    "\n",
    "bos = pd.DataFrame(boston['data'],columns = boston['feature_names'])"
   ]
  },
  {
   "cell_type": "code",
   "execution_count": null,
   "metadata": {},
   "outputs": [],
   "source": [
    "bos.head()"
   ]
  },
  {
   "cell_type": "code",
   "execution_count": null,
   "metadata": {},
   "outputs": [],
   "source": [
    "bos.describe()"
   ]
  },
  {
   "cell_type": "markdown",
   "metadata": {},
   "source": [
    "Next step, reflect on the above so far before, redo with better understanding. Comment on output of descriptive stats\n",
    "\n",
    "\n",
    "Get to know the datasets before moving."
   ]
  },
  {
   "cell_type": "markdown",
   "metadata": {},
   "source": [
    "<a id=\"Describe\"></a>\n",
    "## Describe\n",
    "\n",
    "\n",
    "\n",
    "Origin of the dataset\n",
    "structure of the dataset (variables) - timeseries or snapshot in time\n",
    "Types of variables (Categorical or data)\n",
    "\n",
    "How we are going to source a copy of the dataset\n",
    "\n",
    "Converting to pandas data frame\n",
    "\n",
    "Using pandas to provide descriptive statistics\n",
    "\n",
    "Preliminary investigaion of the data set: variations in houseprices\n",
    "\n",
    "Commentary\n",
    "\n",
    "Some interesting plots"
   ]
  },
  {
   "cell_type": "markdown",
   "metadata": {},
   "source": []
  },
  {
   "cell_type": "code",
   "execution_count": null,
   "metadata": {},
   "outputs": [],
   "source": []
  },
  {
   "cell_type": "code",
   "execution_count": null,
   "metadata": {},
   "outputs": [],
   "source": []
  },
  {
   "cell_type": "code",
   "execution_count": null,
   "metadata": {},
   "outputs": [],
   "source": []
  },
  {
   "cell_type": "markdown",
   "metadata": {},
   "source": [
    "<a id=\"Infer\"></a>\n",
    "\n",
    "# Infer\n",
    "\n",
    "In this section we will perform a two sample t-test to see if there is a significant difference between the median house prices of houses along the Charles river and those that aren't.\n",
    "\n",
    "Discuss aims of t-test. Two samples. What constitutes significant difference in this context?\n",
    "\n",
    "Explanation of findings and what we can learn from T-Tests\n",
    "\n",
    "\n",
    "\n"
   ]
  },
  {
   "cell_type": "code",
   "execution_count": null,
   "metadata": {},
   "outputs": [],
   "source": []
  },
  {
   "cell_type": "code",
   "execution_count": null,
   "metadata": {},
   "outputs": [],
   "source": []
  },
  {
   "cell_type": "code",
   "execution_count": null,
   "metadata": {},
   "outputs": [],
   "source": []
  },
  {
   "cell_type": "code",
   "execution_count": null,
   "metadata": {},
   "outputs": [],
   "source": []
  },
  {
   "cell_type": "code",
   "execution_count": null,
   "metadata": {},
   "outputs": [],
   "source": []
  },
  {
   "cell_type": "code",
   "execution_count": null,
   "metadata": {},
   "outputs": [],
   "source": []
  },
  {
   "cell_type": "markdown",
   "metadata": {},
   "source": [
    "<a id=\"Predict\"></a>\n",
    "## Predict\n",
    "\n",
    "The aim of this section is to create a nueral network using the python package Keras that can predict the median house price based on the other variables in the dataset.\n",
    "\n",
    "The workings done following the lecture on the dogs database will be used as a template for this section.\n",
    "\n",
    "\n",
    "\n",
    "- What variables are we going to base the predication on?\n",
    "- Do we need to create any new variables (e.g. to codify any categorical variables)?\n",
    "- Decide on input variables\n",
    "- Decide on output\n",
    "\n",
    "create the neural network\n",
    "- instantiate a sequential model\n",
    "- add layers\n",
    "- compile model\n",
    "\n",
    "Train the neural network\n",
    "- m.fit\n",
    "- run and make note of loss\n",
    "- do predictions\n",
    "- evaluate predictions - compare predicted house prices with actual values (all or a sample?)\n",
    "\n",
    "Do we need to do anything to improve the performace of the network?\n",
    "\n",
    "Need to watch final lecture series (Tuning nueral network in order to decide further course of action on this section)\n",
    "\n",
    "\n",
    "\n",
    "\n"
   ]
  },
  {
   "cell_type": "code",
   "execution_count": null,
   "metadata": {},
   "outputs": [],
   "source": []
  },
  {
   "cell_type": "code",
   "execution_count": null,
   "metadata": {},
   "outputs": [],
   "source": []
  },
  {
   "cell_type": "code",
   "execution_count": null,
   "metadata": {},
   "outputs": [],
   "source": []
  }
 ],
 "metadata": {
  "kernelspec": {
   "display_name": "Python 3",
   "language": "python",
   "name": "python3"
  },
  "language_info": {
   "codemirror_mode": {
    "name": "ipython",
    "version": 3
   },
   "file_extension": ".py",
   "mimetype": "text/x-python",
   "name": "python",
   "nbconvert_exporter": "python",
   "pygments_lexer": "ipython3",
   "version": "3.6.9"
  }
 },
 "nbformat": 4,
 "nbformat_minor": 2
}
